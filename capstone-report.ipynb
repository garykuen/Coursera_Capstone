{
 "cells": [
  {
   "cell_type": "markdown",
   "metadata": {},
   "source": [
    "# Capstone Report\n",
    "\n",
    "# Introduction:"
   ]
  },
  {
   "cell_type": "markdown",
   "metadata": {},
   "source": [
    "A coffee lover started his new job at New York where his office is located at the Rockefeller Center. He wants to find out the best coffee shops with high review ratings within walking distance from his new office, preferably within 1km. "
   ]
  },
  {
   "cell_type": "markdown",
   "metadata": {},
   "source": [
    "# Business Problem:"
   ]
  },
  {
   "cell_type": "markdown",
   "metadata": {},
   "source": [
    "There are dozens of coffee shops located around his new office at Rocketfeller Center, it is time consuming to find the which has the highest review ratings. The coffee lover would like to us to suggest the top 5 coffee shop near his new office and present in a map."
   ]
  },
  {
   "cell_type": "markdown",
   "metadata": {},
   "source": [
    "# Data:"
   ]
  },
  {
   "cell_type": "markdown",
   "metadata": {},
   "source": [
    "Firstly, we use Foursquare API to search and obtain a list of coffee shops that are within 1km radius from the Rockefeller Center. The dataset contains a total of 50 coffee shops. The sample data is shown below."
   ]
  },
  {
   "cell_type": "markdown",
   "metadata": {},
   "source": [
    "<img src=\"capstone-data-A.png\">"
   ]
  },
  {
   "cell_type": "markdown",
   "metadata": {},
   "source": [
    "After that, for every coffee shop in the dataset, we use obtain the rating of the coffee shop using Foursquare API. The sample data is hown below.  "
   ]
  },
  {
   "cell_type": "markdown",
   "metadata": {},
   "source": [
    "<img src=\"capstone-data-B.png\">"
   ]
  },
  {
   "cell_type": "markdown",
   "metadata": {},
   "source": [
    "# Methodology:"
   ]
  },
  {
   "cell_type": "markdown",
   "metadata": {},
   "source": [
    "1. Datasets are obtained from Foursqure API, there are 2 datasets, first is the list of coffee shops with the unique id and the location in coordinates, secondly is the dataset with the unique id and rating.\n",
    "2. Using Python pandas library, the 2 datasets are merged by the unique id into 1 single dataset.\n",
    "3. The new dataset is then sorted based on the rating by descending order so that the coffee shop with the highest rating is on the top, the first 5 rows are selected.\n",
    "4. Using Python folium library, a map is produced to show the location of the coffee shops with the highest ratings."
   ]
  },
  {
   "cell_type": "markdown",
   "metadata": {},
   "source": [
    "# Results:"
   ]
  },
  {
   "cell_type": "markdown",
   "metadata": {},
   "source": [
    "We identified 5 coffee shops with the best rating near Rockefeller Center, New York. The result of the coffee shops from the best ratings is shown in the table below."
   ]
  },
  {
   "cell_type": "markdown",
   "metadata": {},
   "source": [
    "<img src=\"capstone-result-A.png\">"
   ]
  },
  {
   "cell_type": "markdown",
   "metadata": {},
   "source": [
    "We also produced a map with the markers of the coffee shops in blue and the Rockefeller Center building in black. "
   ]
  },
  {
   "cell_type": "markdown",
   "metadata": {},
   "source": [
    "<img src=\"capstone-result-B.png\">"
   ]
  },
  {
   "cell_type": "markdown",
   "metadata": {},
   "source": [
    "# Discussion:"
   ]
  },
  {
   "cell_type": "markdown",
   "metadata": {},
   "source": [
    "We briefly analyzed the data obtained from Foursquare API and found some incorrectness of the data. Even though we specified the search radius to be 1000m from the target coordinate (Rockefeller Center), Foursquare can return a coffee shop with a distance of more than 1000m, as shown in the data analysis below. Therefore, it is best to pre-analyse the data from Foursquare to clean out or remove any incorrect data before the data should be used in subsequent steps."
   ]
  },
  {
   "cell_type": "markdown",
   "metadata": {},
   "source": [
    "<img src=\"capstone-discussion-A.png\">"
   ]
  },
  {
   "cell_type": "markdown",
   "metadata": {},
   "source": [
    "# Conclusion:"
   ]
  },
  {
   "cell_type": "markdown",
   "metadata": {},
   "source": [
    "Using Foursquare API and python libraries like pandas and folium, we managed to analyze and identify the top 5 coffee shops with highest rating near to Rockefeller Center, New York. We found that Foursqure API may not return the correct data based on our search query and therefore the data should be used with caution. "
   ]
  }
 ],
 "metadata": {
  "kernelspec": {
   "display_name": "Python 3",
   "language": "python",
   "name": "python3"
  },
  "language_info": {
   "codemirror_mode": {
    "name": "ipython",
    "version": 3
   },
   "file_extension": ".py",
   "mimetype": "text/x-python",
   "name": "python",
   "nbconvert_exporter": "python",
   "pygments_lexer": "ipython3",
   "version": "3.8.3"
  }
 },
 "nbformat": 4,
 "nbformat_minor": 4
}
